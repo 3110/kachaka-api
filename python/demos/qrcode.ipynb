{
 "cells": [
  {
   "cell_type": "markdown",
   "id": "316a3adc-c895-4b07-8bab-f5585005d2d3",
   "metadata": {},
   "source": [
    "# QRコード検出\n",
    "\n",
    "Opencvのインストールを行うコマンドが入っています。一度実行した後はこの処理はスキップ可能です。初回インストール後にkernelの再起動が必要です。"
   ]
  },
  {
   "cell_type": "code",
   "execution_count": null,
   "id": "9ad5363a-dac6-4845-b3d4-8040d1b6b429",
   "metadata": {},
   "outputs": [],
   "source": [
    "!pip install -q opencv-python-headless"
   ]
  },
  {
   "cell_type": "code",
   "execution_count": null,
   "id": "65788083-50ff-4331-b8e7-ed9f419775cc",
   "metadata": {},
   "outputs": [],
   "source": [
    "%run setup_demo_env.py"
   ]
  },
  {
   "cell_type": "code",
   "execution_count": null,
   "id": "4e87149c-4b48-45fd-a2d0-2f1431d9a72d",
   "metadata": {},
   "outputs": [],
   "source": [
    "import cv2\n",
    "import grpc\n",
    "import kachaka_api_pb2\n",
    "import numpy as np\n",
    "from IPython.display import Image, clear_output, display\n",
    "from kachaka_api_pb2_grpc import KachakaApiStub"
   ]
  },
  {
   "cell_type": "code",
   "execution_count": null,
   "id": "11501be0-bf41-43a2-98aa-bd0e0e93d913",
   "metadata": {},
   "outputs": [],
   "source": [
    "stub = KachakaApiStub(grpc.aio.insecure_channel(kachaka_api_server))"
   ]
  },
  {
   "cell_type": "markdown",
   "id": "fb403f0a-34c4-4d69-9aac-44646b419d24",
   "metadata": {},
   "source": [
    "以下実行後、スマートフォンなどで https://pf-robotics.github.io/textcode/ にアクセスし、好きな英数字を入力して表示されたQRコードをカチャカの前カメラの前に近付けて下さい。"
   ]
  },
  {
   "cell_type": "code",
   "execution_count": null,
   "id": "32e4e1a0-f7d9-431f-bcf4-59cb3c604860",
   "metadata": {},
   "outputs": [],
   "source": [
    "req = kachaka_api_pb2.GetRequest()\n",
    "qcd = cv2.QRCodeDetector()\n",
    "\n",
    "while True:\n",
    "    resp = await stub.GetFrontCameraRosCompressedImage(req)\n",
    "    image = cv2.imdecode(np.frombuffer(resp.image.data, dtype=np.uint8), flags=1)\n",
    "    decoded_info, corners, _ = qcd.detectAndDecode(image)\n",
    "    if corners is not None:\n",
    "        image = cv2.polylines(image, corners.astype(int), True, (0, 0, 255), 2)\n",
    "    if decoded_info != \"\":\n",
    "        image = cv2.putText(\n",
    "            image,\n",
    "            decoded_info,\n",
    "            corners[0][0].astype(int),\n",
    "            cv2.FONT_HERSHEY_SIMPLEX,\n",
    "            1,\n",
    "            (0, 0, 255),\n",
    "            2,\n",
    "            cv2.LINE_AA,\n",
    "        )\n",
    "    _, ret = cv2.imencode(\n",
    "        \".jpg\", cv2.resize(image, (int(image.shape[1] / 2), int(image.shape[0] / 2)))\n",
    "    )\n",
    "    clear_output(wait=True)\n",
    "    display(Image(data=ret, format=\"jpeg\"))\n",
    "    req.metadata.cursor = resp.metadata.cursor"
   ]
  }
 ],
 "metadata": {
  "kernelspec": {
   "display_name": "Python 3 (ipykernel)",
   "language": "python",
   "name": "python3"
  },
  "language_info": {
   "codemirror_mode": {
    "name": "ipython",
    "version": 3
   },
   "file_extension": ".py",
   "mimetype": "text/x-python",
   "name": "python",
   "nbconvert_exporter": "python",
   "pygments_lexer": "ipython3",
   "version": "3.10.12"
  }
 },
 "nbformat": 4,
 "nbformat_minor": 5
}
