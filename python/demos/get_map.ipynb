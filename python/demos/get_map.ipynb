{
 "cells": [
  {
   "cell_type": "markdown",
   "id": "4bcba01b-7d02-4d53-84b1-e5d71ae5b8f5",
   "metadata": {},
   "source": [
    "# マップの取得\n"
   ]
  },
  {
   "cell_type": "code",
   "execution_count": null,
   "id": "687f8e66-e499-45b9-87d3-ec104b89ad61",
   "metadata": {},
   "outputs": [],
   "source": [
    "%run setup_demo_env.py"
   ]
  },
  {
   "cell_type": "code",
   "execution_count": null,
   "id": "8d08024f-7938-4a12-8e9b-a24229816b10",
   "metadata": {},
   "outputs": [],
   "source": [
    "import grpc\n",
    "import kachaka_api_pb2\n",
    "from IPython.display import Image, display\n",
    "from kachaka_api_pb2_grpc import KachakaApiStub"
   ]
  },
  {
   "cell_type": "code",
   "execution_count": null,
   "id": "ad074c66-1ac6-4888-8536-31da6c52a647",
   "metadata": {},
   "outputs": [],
   "source": [
    "stub = KachakaApiStub(grpc.aio.insecure_channel(kachaka_api_server))"
   ]
  },
  {
   "cell_type": "code",
   "execution_count": null,
   "id": "80be4100-2122-4c13-bca3-f14b88a9494a",
   "metadata": {},
   "outputs": [],
   "source": [
    "resp = await stub.GetPngMap(kachaka_api_pb2.GetRequest())\n",
    "display(Image(data=resp.map.data, format=\"png\"))"
   ]
  }
 ],
 "metadata": {
  "kernelspec": {
   "display_name": "Python 3 (ipykernel)",
   "language": "python",
   "name": "python3"
  },
  "language_info": {
   "codemirror_mode": {
    "name": "ipython",
    "version": 3
   },
   "file_extension": ".py",
   "mimetype": "text/x-python",
   "name": "python",
   "nbconvert_exporter": "python",
   "pygments_lexer": "ipython3",
   "version": "3.10.6"
  }
 },
 "nbformat": 4,
 "nbformat_minor": 5
}
