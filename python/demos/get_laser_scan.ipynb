{
 "cells": [
  {
   "cell_type": "markdown",
   "id": "4bcba01b-7d02-4d53-84b1-e5d71ae5b8f5",
   "metadata": {},
   "source": [
    "# LiDAR の取得\n",
    "\n",
    "Matplotlib のインストールを行うコマンドが入っています。一度実行した後はこの処理はスキップ可能です。初回インストール後にkernelの再起動が必要です。"
   ]
  },
  {
   "cell_type": "code",
   "execution_count": null,
   "id": "40484742-fd4e-4b03-801d-e90677b8828c",
   "metadata": {},
   "outputs": [],
   "source": [
    "!pip install -q matplotlib"
   ]
  },
  {
   "cell_type": "code",
   "execution_count": null,
   "id": "687f8e66-e499-45b9-87d3-ec104b89ad61",
   "metadata": {},
   "outputs": [],
   "source": [
    "%run setup_demo_env.py"
   ]
  },
  {
   "cell_type": "code",
   "execution_count": null,
   "id": "8d08024f-7938-4a12-8e9b-a24229816b10",
   "metadata": {},
   "outputs": [],
   "source": [
    "import math\n",
    "\n",
    "import grpc\n",
    "import kachaka_api_pb2\n",
    "import matplotlib.patches as patches\n",
    "import matplotlib.pyplot as plt\n",
    "from IPython.display import Image, clear_output\n",
    "from kachaka_api_pb2_grpc import KachakaApiStub\n",
    "\n",
    "stub = KachakaApiStub(grpc.aio.insecure_channel(kachaka_api_server))\n",
    "\n",
    "stub.SetManualControlEnabled(\n",
    "    kachaka_api_pb2.SetManualControlEnabledRequest(enable=True)\n",
    ")\n",
    "\n",
    "req = kachaka_api_pb2.GetRequest()\n",
    "while True:\n",
    "    resp = await stub.GetRosLaserScan(req)\n",
    "    req.metadata.cursor = resp.metadata.cursor\n",
    "\n",
    "    clear_output(wait=True)\n",
    "    fig = plt.figure(figsize=(5, 5))\n",
    "\n",
    "    n = len(resp.scan.ranges)\n",
    "    x = list(range(n))\n",
    "    y = list(range(n))\n",
    "    for i in range(n):\n",
    "        theta = resp.scan.angle_min + resp.scan.angle_increment * i\n",
    "        x[i] = resp.scan.ranges[i] * math.cos(theta)\n",
    "        y[i] = resp.scan.ranges[i] * math.sin(theta)\n",
    "\n",
    "    plt.plot(0, 0, \"o\", color=\"black\")\n",
    "    plt.plot(x, y, \".\")\n",
    "    plt.xlim(-6.0, 6.0)\n",
    "    plt.ylim(-6.0, 6.0)\n",
    "    plt.grid(True)\n",
    "    plt.gca().set_aspect(\"equal\", adjustable=\"box\")\n",
    "    plt.show()"
   ]
  }
 ],
 "metadata": {
  "kernelspec": {
   "display_name": "Python 3 (ipykernel)",
   "language": "python",
   "name": "python3"
  },
  "language_info": {
   "codemirror_mode": {
    "name": "ipython",
    "version": 3
   },
   "file_extension": ".py",
   "mimetype": "text/x-python",
   "name": "python",
   "nbconvert_exporter": "python",
   "pygments_lexer": "ipython3",
   "version": "3.10.6"
  }
 },
 "nbformat": 4,
 "nbformat_minor": 5
}
