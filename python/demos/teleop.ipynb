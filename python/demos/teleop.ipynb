{
 "cells": [
  {
   "cell_type": "markdown",
   "id": "fd77c3fb-92e8-44ce-9b76-b17750f8c8dc",
   "metadata": {},
   "source": [
    "# 十字キーボタンによる操縦\n",
    "\n",
    "JupyterLab上に表示されるボタンを使って、カチャカを任意の方向に操縦できます。"
   ]
  },
  {
   "cell_type": "code",
   "execution_count": null,
   "id": "e8657f4d-e3a3-4944-b87e-dc2a196c95c8",
   "metadata": {},
   "outputs": [],
   "source": [
    "%run setup_demo_env.py"
   ]
  },
  {
   "cell_type": "code",
   "execution_count": null,
   "id": "31ed16f3-8330-4618-b9f5-561783ab93f7",
   "metadata": {},
   "outputs": [],
   "source": [
    "import grpc\n",
    "import ipywidgets as widgets\n",
    "import kachaka_api_pb2\n",
    "from IPython.display import display\n",
    "from kachaka_api_pb2_grpc import KachakaApiStub\n",
    "\n",
    "\n",
    "def move(linear, angular):\n",
    "    stub.SetRobotVelocity(\n",
    "        kachaka_api_pb2.SetRobotVelocityRequest(linear=linear, angular=angular)\n",
    "    )\n",
    "\n",
    "\n",
    "def add_button(label: str, linear: float, angular: float):\n",
    "    button = widgets.Button(description=label)\n",
    "    button.on_click(lambda _: move(linear, angular))\n",
    "    return button\n",
    "\n",
    "\n",
    "stub = KachakaApiStub(grpc.aio.insecure_channel(kachaka_api_server))\n",
    "resp = await stub.SetManualControlEnabled(\n",
    "    kachaka_api_pb2.SetManualControlEnabledRequest(enable=True)\n",
    ")\n",
    "\n",
    "items = [\n",
    "    add_button(\"\", 0.5, 0.5),\n",
    "    add_button(\"Forward\", 0.5, 0),\n",
    "    add_button(\"\", 0.5, -0.5),\n",
    "    add_button(\"Turn left\", 0, 0.5),\n",
    "    add_button(\"Stop\", 0, 0),\n",
    "    add_button(\"Turn right\", 0, -0.5),\n",
    "    add_button(\"\", -0.5, 0.5),\n",
    "    add_button(\"Backward\", -0.5, 0),\n",
    "    add_button(\"\", -0.5, -0.5),\n",
    "]\n",
    "widgets.GridBox(items, layout=widgets.Layout(grid_template_columns=\"repeat(3, 150px)\"))"
   ]
  }
 ],
 "metadata": {
  "kernelspec": {
   "display_name": "Python 3 (ipykernel)",
   "language": "python",
   "name": "python3"
  },
  "language_info": {
   "codemirror_mode": {
    "name": "ipython",
    "version": 3
   },
   "file_extension": ".py",
   "mimetype": "text/x-python",
   "name": "python",
   "nbconvert_exporter": "python",
   "pygments_lexer": "ipython3",
   "version": "3.10.12"
  }
 },
 "nbformat": 4,
 "nbformat_minor": 5
}
