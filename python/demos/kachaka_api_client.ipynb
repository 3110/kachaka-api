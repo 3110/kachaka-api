{
 "cells": [
  {
   "cell_type": "markdown",
   "id": "970f7890-f7fd-41ce-9f87-1b963c52288f",
   "metadata": {},
   "source": [
    "# kachaka_apiライブラリ\n",
    "\n",
    "- kachaka_apiライブラリは、gRPCでの通信を意識することなくカチャカのAPIを使うことができるようにしたものです。\n",
    "\n",
    "## 同期ライブラリ篇\n",
    "- このサンプルでは、KachakaApiClientクラスを用いて、カチャカのAPIをメソッド呼びだしの形で実行していきます。\n",
    "- 非同期のライブラリも用意されています。詳細は、[非同期ライブラリ篇](./sample_kachaka_api_client.ipynb)を参照してください。"
   ]
  },
  {
   "cell_type": "code",
   "execution_count": null,
   "id": "7b10b989-00f3-450c-a3e7-4db02102dfa0",
   "metadata": {},
   "outputs": [],
   "source": [
    "# kachaka_apiをimport可能にするため、パスに追加するスクリプトです。サンプル以外の用途では、pip等でinstallしてください。\n",
    "%run setup_demo_env.py"
   ]
  },
  {
   "cell_type": "markdown",
   "id": "3e5658fe-4163-44fd-8eb3-869ea763853a",
   "metadata": {},
   "source": [
    "### インポートとクライアントの作成\n",
    "- クライアントを作成します。1度だけでOKです。"
   ]
  },
  {
   "cell_type": "code",
   "execution_count": null,
   "id": "1b81b3c6-ae9c-49ae-8455-0825eb79d92c",
   "metadata": {},
   "outputs": [],
   "source": [
    "import kachaka_api\n",
    "\n",
    "client = kachaka_api.KachakaApiClient()"
   ]
  },
  {
   "cell_type": "markdown",
   "id": "d08d4bb8-243d-4da4-a961-7acfdd7f1c91",
   "metadata": {},
   "source": [
    "### 各APIの実行\n",
    "\n",
    "- 以下では、各APIを実行するサンプルを提供します。"
   ]
  },
  {
   "cell_type": "markdown",
   "id": "a2e000f4-8832-4dee-8d18-22a98ddc7640",
   "metadata": {},
   "source": [
    "#### ロボットのシリアル番号の取得"
   ]
  },
  {
   "cell_type": "code",
   "execution_count": null,
   "id": "aca57ae0-dce0-424b-bbc3-de1a15150bd6",
   "metadata": {},
   "outputs": [],
   "source": [
    "client.get_robot_serial_number()"
   ]
  },
  {
   "cell_type": "markdown",
   "id": "a33ba0da-d197-4cf5-8995-388be5c894b5",
   "metadata": {},
   "source": [
    "#### カチャカのバージョン情報の取得"
   ]
  },
  {
   "cell_type": "code",
   "execution_count": null,
   "id": "c1573384-6dd7-4b42-b821-47d6ee505546",
   "metadata": {},
   "outputs": [],
   "source": [
    "client.get_robot_version()"
   ]
  },
  {
   "cell_type": "markdown",
   "id": "50b2c468-43b0-4ba7-8152-b159e09244fa",
   "metadata": {},
   "source": [
    "#### マップ上の姿勢の取得"
   ]
  },
  {
   "cell_type": "code",
   "execution_count": null,
   "id": "00928761-3e13-42c4-9cdb-ad104c33d97b",
   "metadata": {},
   "outputs": [],
   "source": [
    "client.get_robot_pose()"
   ]
  },
  {
   "cell_type": "markdown",
   "id": "023a7234-a2d5-4596-9ec2-6c900136f56a",
   "metadata": {},
   "source": [
    "#### マップ画像の取得"
   ]
  },
  {
   "cell_type": "code",
   "execution_count": null,
   "id": "a30f23f7-78b0-4573-b2a9-3faab5040178",
   "metadata": {},
   "outputs": [],
   "source": [
    "from IPython.display import Image, display\n",
    "\n",
    "map = client.get_png_map()\n",
    "display(Image(data=map.data))"
   ]
  },
  {
   "cell_type": "markdown",
   "id": "18b0f0e4-3531-4bea-93e9-8b9979f37062",
   "metadata": {},
   "source": [
    "#### 物体検出結果の取得\n",
    "- カメラで見えている物体(充電器, 家具, 人)の情報を取得します。\n",
    "- カメラを起動してから呼び出す必要があります。"
   ]
  },
  {
   "cell_type": "code",
   "execution_count": null,
   "id": "16ca448f-ccc2-4fb7-9161-9b65004278b2",
   "metadata": {
    "scrolled": true
   },
   "outputs": [],
   "source": [
    "client.get_object_detection()"
   ]
  },
  {
   "cell_type": "markdown",
   "id": "866456e3-9efc-4f99-8ae7-e25ca74f92bb",
   "metadata": {},
   "source": [
    "#### LiDARの点群情報の取得"
   ]
  },
  {
   "cell_type": "code",
   "execution_count": null,
   "id": "b99fe52a-c0b7-445d-8acb-a2d8e5014516",
   "metadata": {},
   "outputs": [],
   "source": [
    "# デフォルトではmatploblib, numpyはインストールされていません。必要に応じてインストールします。\n",
    "# pip installの実行後は、JupyterLabのカーネルをリスタートしてください\n",
    "%pip install -q matplotlib numpy"
   ]
  },
  {
   "cell_type": "code",
   "execution_count": null,
   "id": "7b7d1257-22ca-46bd-adb1-996b198a63fa",
   "metadata": {},
   "outputs": [],
   "source": [
    "import matplotlib.pyplot as plt\n",
    "import numpy as np\n",
    "\n",
    "scan = client.get_ros_laser_scan()\n",
    "\n",
    "theta = np.linspace(scan.angle_min, scan.angle_max, len(scan.ranges))\n",
    "dist = np.array(scan.ranges)\n",
    "\n",
    "# LiDARの点群を表示するサンプル\n",
    "plt.scatter(dist * np.cos(theta), dist * np.sin(theta))"
   ]
  },
  {
   "cell_type": "markdown",
   "id": "69d703e6-5d74-4a5b-abab-29aa70107c46",
   "metadata": {},
   "source": [
    "#### 家具の移動\n",
    "- 家具ID, 目的地IDを指定すると、指定した家具を目的地へ運びます。\n",
    "- IDの一覧は、それぞれ後述のget_shelves(), get_locations()で取得できます。"
   ]
  },
  {
   "cell_type": "code",
   "execution_count": null,
   "id": "75404ccd-a3a0-4c7a-aeee-dfe822429085",
   "metadata": {},
   "outputs": [],
   "source": [
    "client.move_shelf(\"S01\", \"L01\")"
   ]
  },
  {
   "cell_type": "markdown",
   "id": "c95206be-c46f-496c-96ba-b144529c8ba6",
   "metadata": {},
   "source": [
    "#### 家具の片付け\n",
    "- 家具を片付けます。"
   ]
  },
  {
   "cell_type": "code",
   "execution_count": null,
   "id": "18f85bae-81cf-41e1-ad53-123f7ced5beb",
   "metadata": {},
   "outputs": [],
   "source": [
    "client.return_shelf(\"S01\")"
   ]
  },
  {
   "cell_type": "markdown",
   "id": "4c520ec3-f191-467d-99b8-3b91d6049241",
   "metadata": {},
   "source": [
    "- 引数を省略すると、いま載せている家具を片付けます。"
   ]
  },
  {
   "cell_type": "code",
   "execution_count": null,
   "id": "1cb243ca-b1d5-4bd9-8a52-e178ca08fd14",
   "metadata": {},
   "outputs": [],
   "source": [
    "client.return_shelf()"
   ]
  },
  {
   "cell_type": "markdown",
   "id": "f81ef860-7f60-4b1c-aa69-91bd644a81b7",
   "metadata": {},
   "source": [
    "#### 家具を置く\n",
    "- 載せている家具をその場に置きます。"
   ]
  },
  {
   "cell_type": "code",
   "execution_count": null,
   "id": "edd919e8-7be2-4a3a-a798-bb2b3099c27c",
   "metadata": {},
   "outputs": [],
   "source": [
    "client.undock_shelf()"
   ]
  },
  {
   "cell_type": "markdown",
   "id": "1845b918-4fe9-4116-80c0-b512ce85adf9",
   "metadata": {},
   "source": [
    "#### 目的地への移動"
   ]
  },
  {
   "cell_type": "code",
   "execution_count": null,
   "id": "f8a72794-2518-4237-a6ac-486440618f54",
   "metadata": {},
   "outputs": [],
   "source": [
    "client.move_to_location(\"L01\")"
   ]
  },
  {
   "cell_type": "markdown",
   "id": "0359e4cc-4e4b-4d9c-b908-689bf945700c",
   "metadata": {},
   "source": [
    "#### 充電ドックに行く"
   ]
  },
  {
   "cell_type": "code",
   "execution_count": null,
   "id": "e2237bc0-4d15-4b30-8c62-678647133963",
   "metadata": {},
   "outputs": [],
   "source": [
    "client.return_home()"
   ]
  },
  {
   "cell_type": "markdown",
   "id": "aec996bb-fc2d-4459-94ad-63506513f186",
   "metadata": {},
   "source": [
    "#### 家具を載せる"
   ]
  },
  {
   "cell_type": "code",
   "execution_count": null,
   "id": "90ddb574-7dae-452a-8781-86bd409d0d68",
   "metadata": {},
   "outputs": [],
   "source": [
    "client.dock_shelf()"
   ]
  },
  {
   "cell_type": "markdown",
   "id": "cbece45f-8650-47ee-8de5-bc24ecfa396b",
   "metadata": {},
   "source": [
    "#### 音声の発話"
   ]
  },
  {
   "cell_type": "code",
   "execution_count": null,
   "id": "24b2bed6-3a35-4bbf-8055-f0085c82ff6e",
   "metadata": {},
   "outputs": [],
   "source": [
    "client.speak(\"こんにちは、カチャカです\")"
   ]
  },
  {
   "cell_type": "markdown",
   "id": "2f668838-c057-4fd8-a9f7-9d6349c5f176",
   "metadata": {},
   "source": [
    "#### マップ上での座標を指定した移動"
   ]
  },
  {
   "cell_type": "code",
   "execution_count": null,
   "id": "1eb0c83b-926b-4355-b476-04d59c381545",
   "metadata": {},
   "outputs": [],
   "source": [
    "client.move_to_pose(0.5, 0.0, 0)"
   ]
  },
  {
   "cell_type": "markdown",
   "id": "84405186-9cd4-4b59-b97a-b0f3d2e9b410",
   "metadata": {},
   "source": [
    "#### 実行中のコマンドのキャンセル"
   ]
  },
  {
   "cell_type": "code",
   "execution_count": null,
   "id": "7406f319-9698-42d4-9e17-d60a4b7dc10d",
   "metadata": {},
   "outputs": [],
   "source": [
    "client.cancel_command()"
   ]
  },
  {
   "cell_type": "markdown",
   "id": "f6ada5b1-6af2-47bf-a66b-6f1a352b4123",
   "metadata": {},
   "source": [
    "#### 実行中のコマンドの状態の取得\n",
    "- コマンドが実行中かどうか調べる"
   ]
  },
  {
   "cell_type": "code",
   "execution_count": null,
   "id": "94d4bbd0-c5d8-4eeb-a783-ab37da0a1ccb",
   "metadata": {},
   "outputs": [],
   "source": [
    "client.is_command_running()"
   ]
  },
  {
   "cell_type": "markdown",
   "id": "ef12cc30-0584-4605-bf0a-2009a17e71ba",
   "metadata": {},
   "source": [
    "- 実行中のコマンドを取得する"
   ]
  },
  {
   "cell_type": "code",
   "execution_count": null,
   "id": "7e29ca56-aaa3-404f-84d0-fa3fb7e6d8be",
   "metadata": {},
   "outputs": [],
   "source": [
    "client.get_running_command()"
   ]
  },
  {
   "cell_type": "markdown",
   "id": "5a7ee426-6289-41d3-829e-7b3b4c7c272c",
   "metadata": {},
   "source": [
    "#### 最後に実行されたコマンドの結果の取得"
   ]
  },
  {
   "cell_type": "code",
   "execution_count": null,
   "id": "854b0184-69ad-48ca-9819-4241b8e61c0b",
   "metadata": {},
   "outputs": [],
   "source": [
    "client.get_last_command_result()"
   ]
  },
  {
   "cell_type": "markdown",
   "id": "4340d3b2-865a-4e97-add9-052f9ae6d546",
   "metadata": {},
   "source": [
    "#### 目的地の一覧を取得"
   ]
  },
  {
   "cell_type": "code",
   "execution_count": null,
   "id": "20581b1e-816c-40a7-b213-c73874b4a7ff",
   "metadata": {},
   "outputs": [],
   "source": [
    "client.get_locations()"
   ]
  },
  {
   "cell_type": "markdown",
   "id": "af6568b4-6dc7-481e-b43d-c910b11678f3",
   "metadata": {},
   "source": [
    "#### デフォルト目的地の取得\n",
    "- デフォルト目的地は、「〇〇を持ってきて」"
   ]
  },
  {
   "cell_type": "code",
   "execution_count": null,
   "id": "58a89ce3-7d5e-4ab6-8bec-bf8f87a7dfb0",
   "metadata": {},
   "outputs": [],
   "source": [
    "client.get_default_location_id()"
   ]
  },
  {
   "cell_type": "markdown",
   "id": "f0ff7f73-0c8f-4be6-b4dc-31ea6725a3a7",
   "metadata": {},
   "source": [
    "#### 家具の一覧の取得"
   ]
  },
  {
   "cell_type": "code",
   "execution_count": null,
   "id": "631ef261-b901-4027-ac52-9b54745c542f",
   "metadata": {},
   "outputs": [],
   "source": [
    "client.get_shelves()"
   ]
  },
  {
   "cell_type": "markdown",
   "id": "1c620ac0-194e-44f3-82eb-cf45ca67e1d9",
   "metadata": {},
   "source": [
    "#### 自動充電のオン・オフを切り替える"
   ]
  },
  {
   "cell_type": "code",
   "execution_count": null,
   "id": "1855f579-d4d0-44cf-b07a-96d22da2cd9d",
   "metadata": {},
   "outputs": [],
   "source": [
    "client.set_auto_homing_enabled(True)"
   ]
  },
  {
   "cell_type": "markdown",
   "id": "85c39a60-d99c-44a3-870d-f8b2d2e16949",
   "metadata": {},
   "source": [
    "#### 手動操縦モードのオン・オフを切り替える\n",
    "- 手動操縦モードは60秒経つと自動でオフになるようになっているため、必要に応じて定期的に有効にする必要があります。"
   ]
  },
  {
   "cell_type": "code",
   "execution_count": null,
   "id": "f05d02a1-fddf-48e1-b089-9efaadf2a6d0",
   "metadata": {},
   "outputs": [],
   "source": [
    "client.set_manual_control_enabled(True)"
   ]
  },
  {
   "cell_type": "markdown",
   "id": "e5a8cc6c-0e34-40a4-8c19-469e1d024e27",
   "metadata": {},
   "source": [
    "#### 手動操縦モードがオンになっているかどうかを調べる"
   ]
  },
  {
   "cell_type": "code",
   "execution_count": null,
   "id": "27abb6c5-5f21-4b1c-890f-7b8c4099b266",
   "metadata": {},
   "outputs": [],
   "source": [
    "client.get_manual_control_enabled()"
   ]
  },
  {
   "cell_type": "markdown",
   "id": "9ee6d52a-c220-4ad0-91e5-7b6c7efd27b9",
   "metadata": {},
   "source": [
    "#### 速度を指定してカチャカを動かす\n",
    "- 手動操縦モードがONになっている必要があります。"
   ]
  },
  {
   "cell_type": "code",
   "execution_count": null,
   "id": "93c1b26f-5120-4084-b3e7-4f9eda74df29",
   "metadata": {},
   "outputs": [],
   "source": [
    "for i in range(100):\n",
    "    client.set_robot_velocity(0.0, 0.3)"
   ]
  },
  {
   "cell_type": "markdown",
   "id": "09740165-8a49-4727-844e-7f19f2e1ffbc",
   "metadata": {},
   "source": [
    "#### コマンド実行履歴の取得"
   ]
  },
  {
   "cell_type": "code",
   "execution_count": null,
   "id": "b242a991-5a4b-4c86-a248-256846020af4",
   "metadata": {},
   "outputs": [],
   "source": [
    "client.get_history_list()"
   ]
  }
 ],
 "metadata": {
  "kernelspec": {
   "display_name": "Python 3 (ipykernel)",
   "language": "python",
   "name": "python3"
  },
  "language_info": {
   "codemirror_mode": {
    "name": "ipython",
    "version": 3
   },
   "file_extension": ".py",
   "mimetype": "text/x-python",
   "name": "python",
   "nbconvert_exporter": "python",
   "pygments_lexer": "ipython3",
   "version": "3.10.6"
  }
 },
 "nbformat": 4,
 "nbformat_minor": 5
}
